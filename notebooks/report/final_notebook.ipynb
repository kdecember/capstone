{
 "cells": [
  {
   "cell_type": "markdown",
   "metadata": {},
   "source": [
    "## !!Before Running This Notebook!!"
   ]
  },
  {
   "cell_type": "markdown",
   "metadata": {},
   "source": [
    "go to the /data/ section of this repo and review the README, as well as the data_creation notebook located there"
   ]
  },
  {
   "cell_type": "code",
   "execution_count": 1,
   "metadata": {},
   "outputs": [
    {
     "name": "stderr",
     "output_type": "stream",
     "text": [
      "[nltk_data] Downloading package words to\n",
      "[nltk_data]     /Users/kyledecember1/nltk_data...\n",
      "[nltk_data]   Package words is already up-to-date!\n",
      "[nltk_data] Downloading package punkt to\n",
      "[nltk_data]     /Users/kyledecember1/nltk_data...\n",
      "[nltk_data]   Package punkt is already up-to-date!\n"
     ]
    },
    {
     "data": {
      "text/plain": [
       "True"
      ]
     },
     "execution_count": 1,
     "metadata": {},
     "output_type": "execute_result"
    }
   ],
   "source": [
    "import pandas as pd\n",
    "import gzip\n",
    "import json\n",
    "import re\n",
    "import os\n",
    "import pickle\n",
    "import nltk\n",
    "import re\n",
    "import multiprocessing\n",
    "\n",
    "from nltk.corpus import stopwords\n",
    "\n",
    "nltk.download('words')\n",
    "nltk.download('punkt')"
   ]
  },
  {
   "cell_type": "code",
   "execution_count": 2,
   "metadata": {},
   "outputs": [],
   "source": [
    "from tqdm import tqdm\n",
    "from gensim.models import Doc2Vec\n",
    "from sklearn import utils\n",
    "from sklearn.model_selection import train_test_split\n",
    "import gensim\n",
    "from sklearn.linear_model import LogisticRegression\n",
    "from gensim.models.doc2vec import TaggedDocument\n",
    "from sklearn.metrics import accuracy_score, f1_score\n",
    "\n",
    "import seaborn as sns\n",
    "import matplotlib.pyplot as plt"
   ]
  },
  {
   "cell_type": "code",
   "execution_count": 3,
   "metadata": {},
   "outputs": [],
   "source": [
    "cores = multiprocessing.cpu_count()\n",
    "\n",
    "def tokenize_text(text):\n",
    "    tokens = []\n",
    "    for sent in nltk.sent_tokenize(text):\n",
    "        for word in nltk.word_tokenize(sent):\n",
    "            if len(word) < 2:\n",
    "                continue\n",
    "            tokens.append(word.lower())\n",
    "    return tokens\n",
    "\n",
    "def get_recs(model, user_input, n=5):\n",
    "    description = user_input.split(' ')\n",
    "    desc_vec = model.infer_vector(description)\n",
    "    recs = model.docvecs.most_similar([desc_vec])[:n]\n",
    "    return recs\n",
    "\n",
    "def show_game_desc(recs, df):\n",
    "    games = {}\n",
    "    for rec in recs:\n",
    "        games[rec[0]] = df[df['product_id'] == rec[0]]['title']\n",
    "    return games"
   ]
  },
  {
   "cell_type": "markdown",
   "metadata": {},
   "source": [
    "## Import  Data"
   ]
  },
  {
   "cell_type": "code",
   "execution_count": 4,
   "metadata": {},
   "outputs": [],
   "source": [
    "#assign data filepaths to variables\n",
    "games_path = os.path.join(os.pardir, os.pardir, 'data/games.csv')\n",
    "reviews_path = os.path.join(os.pardir, os.pardir, 'data/subsample_agg_reviews.p')"
   ]
  },
  {
   "cell_type": "code",
   "execution_count": 5,
   "metadata": {},
   "outputs": [],
   "source": [
    "#import df_games \n",
    "df_games = pd.read_csv(games_path)\n",
    "\n",
    "#drop null values\n",
    "df_games['id'].dropna(inplace=True)\n",
    "\n",
    "# create product_id column in df_games, based on str-formatted id column\n",
    "df_games['product_id'] = df_games['id'].astype(int).astype(str)"
   ]
  },
  {
   "cell_type": "code",
   "execution_count": 6,
   "metadata": {},
   "outputs": [],
   "source": [
    "agg_df = pd.DataFrame()\n",
    "\n",
    "with open(reviews_path, 'rb') as fp:\n",
    "    loaded_file = pickle.load(fp)\n",
    "    \n",
    "agg_df['product_id'] = list(loaded_file.keys())\n",
    "agg_df['reviews'] = list(loaded_file.values())"
   ]
  },
  {
   "cell_type": "markdown",
   "metadata": {},
   "source": [
    "## Modeling & Evaluation\n",
    "\n",
    "    Please note the subjective nature of the evaluation process; without a focus group it was impossible to obtain information on whether or not the recommendations were relevant to the text provided as the user's \"Ideal Video Game Description\"\n",
    "    \n",
    "    Evaluation was performed by reviewing the descriptions of the games provided, and determining if they matched key words in the descriptions. Ultimately, each model was given a Relevance Score, which is simply the percentage of recommendations that were determined to be relevant."
   ]
  },
  {
   "cell_type": "code",
   "execution_count": null,
   "metadata": {},
   "outputs": [],
   "source": []
  }
 ],
 "metadata": {
  "kernelspec": {
   "display_name": "learn-env",
   "language": "python",
   "name": "learn-env"
  },
  "language_info": {
   "codemirror_mode": {
    "name": "ipython",
    "version": 3
   },
   "file_extension": ".py",
   "mimetype": "text/x-python",
   "name": "python",
   "nbconvert_exporter": "python",
   "pygments_lexer": "ipython3",
   "version": "3.6.9"
  }
 },
 "nbformat": 4,
 "nbformat_minor": 4
}
